{
 "cells": [
  {
   "cell_type": "code",
   "execution_count": 1,
   "metadata": {},
   "outputs": [
    {
     "name": "stdout",
     "output_type": "stream",
     "text": [
      "/home/testchec/asistente\n"
     ]
    }
   ],
   "source": [
    "!pwd"
   ]
  },
  {
   "cell_type": "code",
   "execution_count": 3,
   "metadata": {},
   "outputs": [
    {
     "name": "stdout",
     "output_type": "stream",
     "text": [
      "Collecting spacy\n",
      "  Downloading spacy-2.3.5-cp36-cp36m-manylinux2014_x86_64.whl (10.4 MB)\n",
      "\u001b[K     |████████████████████████████████| 10.4 MB 13 kB/s  eta 0:00:01\n",
      "\u001b[?25hRequirement already satisfied: numpy>=1.15.0 in /home/testchec/anaconda3/envs/asistenteChec/lib/python3.6/site-packages (from spacy) (1.19.2)\n",
      "Requirement already satisfied: requests<3.0.0,>=2.13.0 in /home/testchec/anaconda3/envs/asistenteChec/lib/python3.6/site-packages (from spacy) (2.24.0)\n",
      "Collecting murmurhash<1.1.0,>=0.28.0\n",
      "  Downloading murmurhash-1.0.5-cp36-cp36m-manylinux2014_x86_64.whl (20 kB)\n",
      "Collecting thinc<7.5.0,>=7.4.1\n",
      "  Downloading thinc-7.4.5-cp36-cp36m-manylinux2014_x86_64.whl (1.1 MB)\n",
      "\u001b[K     |████████████████████████████████| 1.1 MB 74.2 MB/s eta 0:00:01\n",
      "\u001b[?25hCollecting preshed<3.1.0,>=3.0.2\n",
      "  Downloading preshed-3.0.5-cp36-cp36m-manylinux2014_x86_64.whl (126 kB)\n",
      "\u001b[K     |████████████████████████████████| 126 kB 60.4 MB/s eta 0:00:01\n",
      "\u001b[?25hRequirement already satisfied: setuptools in /home/testchec/anaconda3/envs/asistenteChec/lib/python3.6/site-packages (from spacy) (49.6.0.post20200814)\n",
      "Collecting cymem<2.1.0,>=2.0.2\n",
      "  Downloading cymem-2.0.5-cp36-cp36m-manylinux2014_x86_64.whl (35 kB)\n",
      "Collecting srsly<1.1.0,>=1.0.2\n",
      "  Downloading srsly-1.0.5-cp36-cp36m-manylinux2014_x86_64.whl (184 kB)\n",
      "\u001b[K     |████████████████████████████████| 184 kB 57.7 MB/s eta 0:00:01\n",
      "\u001b[?25hCollecting catalogue<1.1.0,>=0.0.7\n",
      "  Downloading catalogue-1.0.0-py2.py3-none-any.whl (7.7 kB)\n",
      "Requirement already satisfied: tqdm<5.0.0,>=4.38.0 in /home/testchec/anaconda3/envs/asistenteChec/lib/python3.6/site-packages (from spacy) (4.45.0)\n",
      "Collecting plac<1.2.0,>=0.9.6\n",
      "  Downloading plac-1.1.3-py2.py3-none-any.whl (20 kB)\n",
      "Collecting wasabi<1.1.0,>=0.4.0\n",
      "  Downloading wasabi-0.8.1-py3-none-any.whl (23 kB)\n",
      "Collecting blis<0.8.0,>=0.4.0\n",
      "  Downloading blis-0.7.4-cp36-cp36m-manylinux2014_x86_64.whl (9.8 MB)\n",
      "\u001b[K     |████████████████████████████████| 9.8 MB 729 bytes/s a 0:00:01\n",
      "\u001b[?25hRequirement already satisfied: idna<3,>=2.5 in /home/testchec/anaconda3/envs/asistenteChec/lib/python3.6/site-packages (from requests<3.0.0,>=2.13.0->spacy) (2.10)\n",
      "Requirement already satisfied: urllib3!=1.25.0,!=1.25.1,<1.26,>=1.21.1 in /home/testchec/anaconda3/envs/asistenteChec/lib/python3.6/site-packages (from requests<3.0.0,>=2.13.0->spacy) (1.25.10)\n",
      "Requirement already satisfied: chardet<4,>=3.0.2 in /home/testchec/anaconda3/envs/asistenteChec/lib/python3.6/site-packages (from requests<3.0.0,>=2.13.0->spacy) (3.0.4)\n",
      "Requirement already satisfied: certifi>=2017.4.17 in /home/testchec/anaconda3/envs/asistenteChec/lib/python3.6/site-packages (from requests<3.0.0,>=2.13.0->spacy) (2020.6.20)\n",
      "Requirement already satisfied: importlib-metadata>=0.20; python_version < \"3.8\" in /home/testchec/anaconda3/envs/asistenteChec/lib/python3.6/site-packages (from catalogue<1.1.0,>=0.0.7->spacy) (1.7.0)\n",
      "Requirement already satisfied: zipp>=0.5 in /home/testchec/anaconda3/envs/asistenteChec/lib/python3.6/site-packages (from importlib-metadata>=0.20; python_version < \"3.8\"->catalogue<1.1.0,>=0.0.7->spacy) (3.1.0)\n",
      "Installing collected packages: murmurhash, srsly, wasabi, cymem, preshed, plac, catalogue, blis, thinc, spacy\n",
      "Successfully installed blis-0.7.4 catalogue-1.0.0 cymem-2.0.5 murmurhash-1.0.5 plac-1.1.3 preshed-3.0.5 spacy-2.3.5 srsly-1.0.5 thinc-7.4.5 wasabi-0.8.1\n"
     ]
    }
   ],
   "source": [
    "!pip install spacy"
   ]
  },
  {
   "cell_type": "code",
   "execution_count": 4,
   "metadata": {},
   "outputs": [
    {
     "name": "stdout",
     "output_type": "stream",
     "text": [
      "Collecting es_core_news_lg==2.3.1\n",
      "  Downloading https://github.com/explosion/spacy-models/releases/download/es_core_news_lg-2.3.1/es_core_news_lg-2.3.1.tar.gz (573.1 MB)\n",
      "\u001b[K     |███████████████████████▊        | 425.3 MB 84.0 MB/s eta 0:00:023"
     ]
    },
    {
     "name": "stderr",
     "output_type": "stream",
     "text": [
      "IOPub data rate exceeded.\n",
      "The notebook server will temporarily stop sending output\n",
      "to the client in order to avoid crashing it.\n",
      "To change this limit, set the config variable\n",
      "`--NotebookApp.iopub_data_rate_limit`.\n",
      "\n",
      "Current values:\n",
      "NotebookApp.iopub_data_rate_limit=1000000.0 (bytes/sec)\n",
      "NotebookApp.rate_limit_window=3.0 (secs)\n",
      "\n"
     ]
    },
    {
     "name": "stdout",
     "output_type": "stream",
     "text": [
      "\u001b[K     |████████████████████████████████| 573.1 MB 87.4 MB/s eta 0:00:01\n",
      "\u001b[?25hRequirement already satisfied: spacy<2.4.0,>=2.3.0 in /home/testchec/anaconda3/envs/asistenteChec/lib/python3.6/site-packages (from es_core_news_lg==2.3.1) (2.3.5)\n",
      "Requirement already satisfied: thinc<7.5.0,>=7.4.1 in /home/testchec/anaconda3/envs/asistenteChec/lib/python3.6/site-packages (from spacy<2.4.0,>=2.3.0->es_core_news_lg==2.3.1) (7.4.5)\n",
      "Requirement already satisfied: murmurhash<1.1.0,>=0.28.0 in /home/testchec/anaconda3/envs/asistenteChec/lib/python3.6/site-packages (from spacy<2.4.0,>=2.3.0->es_core_news_lg==2.3.1) (1.0.5)\n",
      "Requirement already satisfied: preshed<3.1.0,>=3.0.2 in /home/testchec/anaconda3/envs/asistenteChec/lib/python3.6/site-packages (from spacy<2.4.0,>=2.3.0->es_core_news_lg==2.3.1) (3.0.5)\n",
      "Requirement already satisfied: cymem<2.1.0,>=2.0.2 in /home/testchec/anaconda3/envs/asistenteChec/lib/python3.6/site-packages (from spacy<2.4.0,>=2.3.0->es_core_news_lg==2.3.1) (2.0.5)\n",
      "Requirement already satisfied: blis<0.8.0,>=0.4.0 in /home/testchec/anaconda3/envs/asistenteChec/lib/python3.6/site-packages (from spacy<2.4.0,>=2.3.0->es_core_news_lg==2.3.1) (0.7.4)\n",
      "Requirement already satisfied: srsly<1.1.0,>=1.0.2 in /home/testchec/anaconda3/envs/asistenteChec/lib/python3.6/site-packages (from spacy<2.4.0,>=2.3.0->es_core_news_lg==2.3.1) (1.0.5)\n",
      "Requirement already satisfied: tqdm<5.0.0,>=4.38.0 in /home/testchec/anaconda3/envs/asistenteChec/lib/python3.6/site-packages (from spacy<2.4.0,>=2.3.0->es_core_news_lg==2.3.1) (4.45.0)\n",
      "Requirement already satisfied: setuptools in /home/testchec/anaconda3/envs/asistenteChec/lib/python3.6/site-packages (from spacy<2.4.0,>=2.3.0->es_core_news_lg==2.3.1) (49.6.0.post20200814)\n",
      "Requirement already satisfied: requests<3.0.0,>=2.13.0 in /home/testchec/anaconda3/envs/asistenteChec/lib/python3.6/site-packages (from spacy<2.4.0,>=2.3.0->es_core_news_lg==2.3.1) (2.24.0)\n",
      "Requirement already satisfied: catalogue<1.1.0,>=0.0.7 in /home/testchec/anaconda3/envs/asistenteChec/lib/python3.6/site-packages (from spacy<2.4.0,>=2.3.0->es_core_news_lg==2.3.1) (1.0.0)\n",
      "Requirement already satisfied: numpy>=1.15.0 in /home/testchec/anaconda3/envs/asistenteChec/lib/python3.6/site-packages (from spacy<2.4.0,>=2.3.0->es_core_news_lg==2.3.1) (1.19.2)\n",
      "Requirement already satisfied: wasabi<1.1.0,>=0.4.0 in /home/testchec/anaconda3/envs/asistenteChec/lib/python3.6/site-packages (from spacy<2.4.0,>=2.3.0->es_core_news_lg==2.3.1) (0.8.1)\n",
      "Requirement already satisfied: plac<1.2.0,>=0.9.6 in /home/testchec/anaconda3/envs/asistenteChec/lib/python3.6/site-packages (from spacy<2.4.0,>=2.3.0->es_core_news_lg==2.3.1) (1.1.3)\n",
      "Requirement already satisfied: certifi>=2017.4.17 in /home/testchec/anaconda3/envs/asistenteChec/lib/python3.6/site-packages (from requests<3.0.0,>=2.13.0->spacy<2.4.0,>=2.3.0->es_core_news_lg==2.3.1) (2020.6.20)\n",
      "Requirement already satisfied: idna<3,>=2.5 in /home/testchec/anaconda3/envs/asistenteChec/lib/python3.6/site-packages (from requests<3.0.0,>=2.13.0->spacy<2.4.0,>=2.3.0->es_core_news_lg==2.3.1) (2.10)\n",
      "Requirement already satisfied: chardet<4,>=3.0.2 in /home/testchec/anaconda3/envs/asistenteChec/lib/python3.6/site-packages (from requests<3.0.0,>=2.13.0->spacy<2.4.0,>=2.3.0->es_core_news_lg==2.3.1) (3.0.4)\n",
      "Requirement already satisfied: urllib3!=1.25.0,!=1.25.1,<1.26,>=1.21.1 in /home/testchec/anaconda3/envs/asistenteChec/lib/python3.6/site-packages (from requests<3.0.0,>=2.13.0->spacy<2.4.0,>=2.3.0->es_core_news_lg==2.3.1) (1.25.10)\n",
      "Requirement already satisfied: importlib-metadata>=0.20; python_version < \"3.8\" in /home/testchec/anaconda3/envs/asistenteChec/lib/python3.6/site-packages (from catalogue<1.1.0,>=0.0.7->spacy<2.4.0,>=2.3.0->es_core_news_lg==2.3.1) (1.7.0)\n",
      "Requirement already satisfied: zipp>=0.5 in /home/testchec/anaconda3/envs/asistenteChec/lib/python3.6/site-packages (from importlib-metadata>=0.20; python_version < \"3.8\"->catalogue<1.1.0,>=0.0.7->spacy<2.4.0,>=2.3.0->es_core_news_lg==2.3.1) (3.1.0)\n",
      "Building wheels for collected packages: es-core-news-lg\n",
      "  Building wheel for es-core-news-lg (setup.py) ... \u001b[?25ldone\n",
      "\u001b[?25h  Created wheel for es-core-news-lg: filename=es_core_news_lg-2.3.1-py3-none-any.whl size=573139080 sha256=14beb5705a9979154482abdd4d60fddc6383df096cd03c9d07ada3864d9724e0\n",
      "  Stored in directory: /tmp/pip-ephem-wheel-cache-392k_iuy/wheels/03/0d/98/c83ab51f9f4ed03dca3f62ba66abcf2d6b0d32763c08f74cc4\n",
      "Successfully built es-core-news-lg\n",
      "Installing collected packages: es-core-news-lg\n",
      "Successfully installed es-core-news-lg-2.3.1\n",
      "\u001b[38;5;2m✔ Download and installation successful\u001b[0m\n",
      "You can now load the model via spacy.load('es_core_news_lg')\n"
     ]
    }
   ],
   "source": [
    "!python -m spacy download es_core_news_lg"
   ]
  },
  {
   "cell_type": "code",
   "execution_count": 5,
   "metadata": {},
   "outputs": [
    {
     "name": "stdout",
     "output_type": "stream",
     "text": [
      "Untitled.ipynb\tactions.py\t data\t\tinstalaciones.ipynb\n",
      "__init__.py\tconfig.yml\t domain.yml\tmodels\n",
      "__pycache__\tcredentials.yml  endpoints.yml\ttests\n"
     ]
    }
   ],
   "source": [
    "!ls"
   ]
  },
  {
   "cell_type": "code",
   "execution_count": null,
   "metadata": {},
   "outputs": [],
   "source": []
  }
 ],
 "metadata": {
  "kernelspec": {
   "display_name": "Python 3",
   "language": "python",
   "name": "python3"
  },
  "language_info": {
   "codemirror_mode": {
    "name": "ipython",
    "version": 3
   },
   "file_extension": ".py",
   "mimetype": "text/x-python",
   "name": "python",
   "nbconvert_exporter": "python",
   "pygments_lexer": "ipython3",
   "version": "3.6.8"
  }
 },
 "nbformat": 4,
 "nbformat_minor": 4
}
